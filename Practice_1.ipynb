{
  "nbformat": 4,
  "nbformat_minor": 0,
  "metadata": {
    "colab": {
      "name": "Practice 1.ipynb",
      "provenance": [],
      "collapsed_sections": [],
      "include_colab_link": true
    },
    "kernelspec": {
      "display_name": "Python 3",
      "name": "python3"
    },
    "language_info": {
      "name": "python"
    }
  },
  "cells": [
    {
      "cell_type": "markdown",
      "metadata": {
        "id": "view-in-github",
        "colab_type": "text"
      },
      "source": [
        "<a href=\"https://colab.research.google.com/github/JahnaviSatishShanbhag/codeio_python_course/blob/main/Practice_1.ipynb\" target=\"_parent\"><img src=\"https://colab.research.google.com/assets/colab-badge.svg\" alt=\"Open In Colab\"/></a>"
      ]
    },
    {
      "cell_type": "markdown",
      "metadata": {
        "id": "sSHNWVwQ0Z2w"
      },
      "source": [
        "Practice assignment 1 \n",
        "---                                                       \n",
        "To get started with some simple code execution, please carry out the following operations.For each operation, create a new code cell\n",
        "1. Take a variable `a`, and a variable `b`. Assign some values to them, find their sum, product, difference, quotient, remainder and find a to the power of b(`a^b`)  \n",
        "\n"
      ]
    },
    {
      "cell_type": "code",
      "metadata": {
        "id": "8_C4ol-T0gGS",
        "colab": {
          "base_uri": "https://localhost:8080/"
        },
        "outputId": "e78a8204-c160-4ddf-9b93-09f8c44d143f"
      },
      "source": [
        "a=5\n",
        "b=35\n",
        "print(a+b)\n",
        "print(a*b)\n",
        "print(a-b)\n",
        "print(a/b)\n",
        "print(a%b)\n",
        "print(a**b)"
      ],
      "execution_count": null,
      "outputs": [
        {
          "output_type": "stream",
          "text": [
            "40\n",
            "175\n",
            "-30\n",
            "0.14285714285714285\n",
            "5\n",
            "2910383045673370361328125\n"
          ],
          "name": "stdout"
        }
      ]
    },
    {
      "cell_type": "markdown",
      "metadata": {
        "id": "AtJvlbpi454J"
      },
      "source": [
        "2. After execution, now take external input from user using the `input()` keyword. Take input for String, and a number. Do the following: \n",
        "  1. Concat the two data types into a variable `c`. "
      ]
    },
    {
      "cell_type": "code",
      "metadata": {
        "id": "ITPw8wPJ5AsG"
      },
      "source": [
        "a = input(\"Enter the string: \")\n",
        "b = input(\"Enter the number: \")\n",
        "c = a + str(b)\n",
        "print(c)"
      ],
      "execution_count": null,
      "outputs": []
    },
    {
      "cell_type": "markdown",
      "metadata": {
        "id": "4Q4W4Y975dsq"
      },
      "source": [
        "2. Perform multiplication of the 2 data types, store it in `d`. Find data type of variable `d` and print it. "
      ]
    },
    {
      "cell_type": "code",
      "metadata": {
        "id": "a1uOt6CS5iAE"
      },
      "source": [
        "a = 10\n",
        "b = 10.2\n",
        "d=a*b\n",
        "print(d)\n",
        "print(type(d))\n"
      ],
      "execution_count": null,
      "outputs": []
    },
    {
      "cell_type": "markdown",
      "metadata": {
        "id": "XKEwMYrz5m9c"
      },
      "source": [
        "3. Take input of 2 strings. Perform concatination of those strings using the `+` operator and the `,` operator."
      ]
    },
    {
      "cell_type": "code",
      "metadata": {
        "id": "ZLM1tmT35qI_"
      },
      "source": [
        "a=input(\"Enter string: \")\n",
        "b=input(\"Enter string: \")\n",
        "print(a+\" \"+b)\n",
        "print(a,b)"
      ],
      "execution_count": null,
      "outputs": []
    },
    {
      "cell_type": "markdown",
      "metadata": {
        "id": "6co_8dPL5-_M"
      },
      "source": [
        "4. Take input of number and string. Concat the 2 variables and print the output."
      ]
    },
    {
      "cell_type": "code",
      "metadata": {
        "id": "K4oB9r9s6WRx"
      },
      "source": [
        "a =input(\"Enter the string: \")\n",
        "b =int(input(\"Enter the integer: \"))\n",
        "d = a + \" \" + str(b)\n",
        "print(d)"
      ],
      "execution_count": null,
      "outputs": []
    },
    {
      "cell_type": "markdown",
      "metadata": {
        "id": "E3OdFmn17BIP"
      },
      "source": [
        "For the code below, give an input such that you will get an error all the time\n",
        "---"
      ]
    },
    {
      "cell_type": "code",
      "metadata": {
        "id": "oHwsb3mV7NZF"
      },
      "source": [
        "x=float(input(\"Enter number for x: \"))\n",
        "y=float(input(\"Enter number for y: \"))\n",
        "if x==y: \n",
        "  print(\"x and y are equal\")\n",
        "  if y!= 0:\n",
        "    print(\"thus x/y is\",x/y)\n",
        "elif x<y: \n",
        "  print(\"x is smaller\")\n",
        "else:\n",
        "  print(\"y is smaller\")\n",
        "print(\"thanks\")"
      ],
      "execution_count": null,
      "outputs": []
    },
    {
      "cell_type": "code",
      "metadata": {
        "id": "J0D236gI5ZFy"
      },
      "source": [
        ""
      ],
      "execution_count": null,
      "outputs": []
    },
    {
      "cell_type": "code",
      "metadata": {
        "id": "FVq5ZqQ35b81"
      },
      "source": [
        ""
      ],
      "execution_count": null,
      "outputs": []
    },
    {
      "cell_type": "markdown",
      "metadata": {
        "id": "tP8L8lWv7Uuu"
      },
      "source": [
        "In the above code, now make the modification such that the input is of string data type, and instead of performing `x/y` modify that to finding the quotient of their ascii values. Eg: string `hello` has the ascii values `104 101 108 108 111`.  If `x < y` then concat the two strings. If `x > y` then take a number `n` and then print the concated string `n` times. "
      ]
    },
    {
      "cell_type": "code",
      "metadata": {
        "id": "J_5hH0lC-V14"
      },
      "source": [
        "#Enter code after the variables\n",
        "x= input(\"Enter string x:\")\n",
        "y= input('Enter string y:')\n",
        "if x==y: \n",
        "  print(\"x and y are equal\")\n",
        "  if y!= 0:\n",
        "   for i in y:\n",
        "     print(ord(i),end=\" \")\n",
        "\n",
        "elif x<y: \n",
        "  print(x+\" \"+y)\n",
        "else:\n",
        "  n=input(\"any number: \")\n",
        "  print((x+\"  \"+y)*n)"
      ],
      "execution_count": null,
      "outputs": []
    },
    {
      "cell_type": "markdown",
      "metadata": {
        "id": "SacUr4KU_iGF"
      },
      "source": [
        "<hr/>\n",
        "\n",
        "\n",
        "Complete the code below. In case it's helpful, here is the table of available arithmetic operations:\n",
        "\n",
        "\n",
        "\n",
        "| Operator     | Name           | Description                                            |\n",
        "|--------------|----------------|--------------------------------------------------------|\n",
        "| ``a + b``    | Addition       | Sum of ``a`` and ``b``                                 |\n",
        "| ``a - b``    | Subtraction    | Difference of ``a`` and ``b``                          |\n",
        "| ``a * b``    | Multiplication | Product of ``a`` and ``b``                             |\n",
        "| ``a / b``    | True division  | Quotient of ``a`` and ``b``                            |\n",
        "| ``a // b``   | Floor division | Quotient of ``a`` and ``b``, removing fractional parts |\n",
        "| ``a % b``    | Modulus        | Integer remainder after division of ``a`` by ``b``     |\n",
        "| ``a ** b``   | Exponentiation | ``a`` raised to the power of ``b``                     |\n",
        "| ``-a``       | Negation       | The negative of ``a``                                  |\n",
        "\n",
        "<span style=\"display:none\"></span>"
      ]
    },
    {
      "cell_type": "code",
      "metadata": {
        "colab": {
          "base_uri": "https://localhost:8080/"
        },
        "id": "FNz8mH7l_lSo",
        "outputId": "dfa21a6e-2db5-44e1-dbb2-11deef6232d3"
      },
      "source": [
        "pi = 3.14159 # approximate\n",
        "diameter = 3\n",
        "\n",
        "# Create a variable called 'radius' equal to half the diameter\n",
        "radius = diameter/2\n",
        "print(\"radius:\",radius)\n",
        "# Create a variable called 'area', using the formula for the area of a circle: pi times the radius square\n",
        "area= pi * (radius**2)\n",
        "print(\"area:\",area)"
      ],
      "execution_count": null,
      "outputs": [
        {
          "output_type": "stream",
          "text": [
            "radius: 1.5\n",
            "area: 7.0685775\n"
          ],
          "name": "stdout"
        }
      ]
    },
    {
      "cell_type": "markdown",
      "metadata": {
        "id": "VWn1rI2gAC4r"
      },
      "source": [
        "<hr/>\n",
        "\n",
        "\n",
        "\n",
        "Add code to the following cell to swap variables `a` and `b` (so that `a` refers to the object previously referred to by `b` and vice versa)."
      ]
    },
    {
      "cell_type": "code",
      "metadata": {
        "colab": {
          "base_uri": "https://localhost:8080/"
        },
        "id": "5Hz-A33RAFMc",
        "outputId": "1db6cc41-bc51-4412-d51c-bd28a0c0182a"
      },
      "source": [
        "a = 20\n",
        "b = 30\n",
        "print(\"Before swapping a =\",a,\" b =\",b)\n",
        "a,b=b,a\n",
        "print(\"After swapping a =\",a,\" b =\",b)"
      ],
      "execution_count": null,
      "outputs": [
        {
          "output_type": "stream",
          "text": [
            "Before swapping a = 20  b = 30\n",
            "After swapping a = 30  b = 20\n"
          ],
          "name": "stdout"
        }
      ]
    },
    {
      "cell_type": "markdown",
      "metadata": {
        "id": "oboBArAqAVjf"
      },
      "source": [
        "Add parentheses to the following expression so that it evaluates to 1."
      ]
    },
    {
      "cell_type": "code",
      "metadata": {
        "colab": {
          "base_uri": "https://localhost:8080/"
        },
        "id": "yIuisxWqAiaL",
        "outputId": "78ff8cd4-8ebc-43b2-b4f7-b87586beb193"
      },
      "source": [
        "(5 - 3 )// 2"
      ],
      "execution_count": null,
      "outputs": [
        {
          "output_type": "execute_result",
          "data": {
            "text/plain": [
              "1"
            ]
          },
          "metadata": {
            "tags": []
          },
          "execution_count": 15
        }
      ]
    },
    {
      "cell_type": "markdown",
      "metadata": {
        "id": "4wO3nGQhAlHv"
      },
      "source": [
        "Add parentheses to the following expression so that it evaluates to 0."
      ]
    },
    {
      "cell_type": "code",
      "metadata": {
        "colab": {
          "base_uri": "https://localhost:8080/"
        },
        "id": "g2CeM1PSAt3a",
        "outputId": "e21627e5-d034-4552-96f4-ba4ad0fb69b5"
      },
      "source": [
        "8 - (3*2) - (1 + 1)"
      ],
      "execution_count": null,
      "outputs": [
        {
          "output_type": "execute_result",
          "data": {
            "text/plain": [
              "0"
            ]
          },
          "metadata": {
            "tags": []
          },
          "execution_count": 16
        }
      ]
    },
    {
      "cell_type": "code",
      "metadata": {
        "colab": {
          "base_uri": "https://localhost:8080/"
        },
        "id": "WIVX4vd_DRKb",
        "outputId": "49a1149d-3573-44ea-a8c2-757bce89936f"
      },
      "source": [
        "(8 - 3) * (2 -(1 + 1))"
      ],
      "execution_count": null,
      "outputs": [
        {
          "output_type": "execute_result",
          "data": {
            "text/plain": [
              "0"
            ]
          },
          "metadata": {
            "tags": []
          },
          "execution_count": 17
        }
      ]
    },
    {
      "cell_type": "markdown",
      "metadata": {
        "id": "E7NqRPo6BBev"
      },
      "source": [
        "A, B and C have agreed to pool their Halloween candy and split it evenly among themselves.\n",
        "For the sake of their friendship, any candies left over will be smashed. For example, if they collectively\n",
        "bring home 91 candies, they'll take 30 each and smash 1.\n",
        "\n",
        "Write an arithmetic expression below to calculate how many candies they must smash for a given haul."
      ]
    },
    {
      "cell_type": "code",
      "metadata": {
        "colab": {
          "base_uri": "https://localhost:8080/"
        },
        "id": "q7UOoYeNBHVq",
        "outputId": "63a7d854-9450-4fd4-c2ef-d54bb4e67a10"
      },
      "source": [
        "# Variables representing the number of candies collected by alice, bob, and carol\n",
        "a_candies = 12\n",
        "b_candies = 7\n",
        "c_candies = 15\n",
        "tot_candies = a_candies + b_candies + c_candies\n",
        "to_smash = tot_candies % 3\n",
        "print(\"the candies to be smashed is :\",to_smash)"
      ],
      "execution_count": null,
      "outputs": [
        {
          "output_type": "stream",
          "text": [
            "the candies to be smashed is : 1\n"
          ],
          "name": "stdout"
        }
      ]
    },
    {
      "cell_type": "markdown",
      "metadata": {
        "id": "OJzUEowGB2Hv"
      },
      "source": [
        "# Make your game \n",
        "Like the simple game earlier, if the character moves to the right, the game doesn't end. Anything else, and the game ends. Code your own version of this game. "
      ]
    },
    {
      "cell_type": "code",
      "metadata": {
        "id": "QnZvwkjECGik"
      },
      "source": [
        ""
      ],
      "execution_count": null,
      "outputs": []
    },
    {
      "cell_type": "code",
      "metadata": {
        "colab": {
          "background_save": true,
          "base_uri": "https://localhost:8080/"
        },
        "id": "QVlgjzogCyCW",
        "outputId": "3bf9bff3-cc9e-4323-c50d-571e15681c0b"
      },
      "source": [
        "n = input(\"********\\n    😃    \\n********\\n Go left or right \")\n",
        "a = 0\n",
        "while n == \"right\":\n",
        "\n",
        "    a+=1\n",
        "    if (a <= 3):\n",
        "        print(\"You are on the correct path go ahead 😃\")\n",
        "        n = input(\"********\\n    😃    \\n********\\n Go left or right \")\n",
        "\n",
        "    else:\n",
        "        print(\"You are in Wrong path \")\n",
        "        n = input(\"********\\n    😔   \\n********\\n Go left or right \")\n",
        "  "
      ],
      "execution_count": null,
      "outputs": [
        {
          "output_type": "stream",
          "text": [
            "You are on the correct path go ahead 😃\n",
            "You are on the correct path go ahead 😃\n"
          ],
          "name": "stdout"
        }
      ]
    }
  ]
}